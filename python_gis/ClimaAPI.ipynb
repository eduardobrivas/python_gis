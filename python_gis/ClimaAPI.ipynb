{
 "cells": [
  {
   "cell_type": "code",
   "execution_count": 8,
   "id": "c6c33881-e87c-4929-9878-d3adb1cfb08f",
   "metadata": {
    "tags": []
   },
   "outputs": [],
   "source": [
    "\n",
    "import requests\n",
    "import tkinter as tk\n",
    "from tkinter import messagebox\n",
    "\n",
    "def obter_clima_cidade(cidade):\n",
    "    try:\n",
    "\n",
    "        api_key = \"978c55380e9d39571699abea8223c2c6Y\"\n",
    "        url = f\"http://api.openweathermap.org/data/2.5/weather?q={cidade},BR&appid={api_key}&units=metric\"\n",
    "        resposta = requests.get(url)\n",
    "        dados = resposta.json()\n",
    "\n",
    "        temperatura = dados[\"main\"][\"temp\"]\n",
    "        descricao = dados[\"weather\"][0][\"description\"]\n",
    "\n",
    "        return f'Temperatura: {temperatura}°C\\nCondição: {descricao}'\n",
    "    except Exception as e:\n",
    "        return f\"Erro ao obter dados: {str(e)}\"\n",
    "\n",
    "def exibir_clima():\n",
    "    cidade = entry_cidade.get()\n",
    "    clima = obter_clima_cidade(cidade)\n",
    "    messagebox.showinfo(\"Condições Climáticas\", clima)\n",
    "\n",
    "# Interface gráfica usando tkinter\n",
    "app = tk.Tk()\n",
    "app.title(\"Previsão do Tempo\")\n",
    "\n",
    "label_instrucao = tk.Label(app, text=\"Digite o nome da cidade:\")\n",
    "label_instrucao.pack(pady=10)\n",
    "\n",
    "entry_cidade = tk.Entry(app)\n",
    "entry_cidade.pack(pady=10)\n",
    "\n",
    "btn_obter_clima = tk.Button(app, text=\"Obter Condições Climáticas\", command=exibir_clima)\n",
    "btn_obter_clima.pack(pady=10)\n",
    "\n",
    "app.mainloop()\n"
   ]
  },
  {
   "cell_type": "code",
   "execution_count": 4,
   "id": "82c4ba81-8f5a-466f-babb-996cc54d5225",
   "metadata": {
    "tags": []
   },
   "outputs": [
    {
     "name": "stdout",
     "output_type": "stream",
     "text": [
      "Erro ao obter dados: 'main'\n"
     ]
    }
   ],
   "source": [
    "def obter_clima_cidade(api_key, cidade):\n",
    "    try:\n",
    "        url = f\"http://api.openweathermap.org/data/2.5/weather?q={cidade},BR&appid={api_key}&units=metric\"\n",
    "        resposta = requests.get(url)\n",
    "        dados = resposta.json()\n",
    "\n",
    "        temperatura = dados[\"main\"][\"temp\"]\n",
    "        descricao = dados[\"weather\"][0][\"description\"]\n",
    "\n",
    "        return f'Temperatura: {temperatura}°C\\nCondição: {descricao}'\n",
    "    except Exception as e:\n",
    "        return f\"Erro ao obter dados: {str(e)}\"\n",
    "\n",
    "# Uso da função\n",
    "api_key = \"978c55380e9d39571699abea8223c2c6Y\"\n",
    "cidade_nome = \"Sao Paulo\"\n",
    "clima_sao_paulo = obter_clima_cidade(api_key, cidade_nome)\n",
    "print(clima_sao_paulo)"
   ]
  },
  {
   "cell_type": "code",
   "execution_count": 7,
   "id": "8d187782-7d28-44e4-ad8f-71def455725d",
   "metadata": {
    "tags": []
   },
   "outputs": [
    {
     "name": "stdout",
     "output_type": "stream",
     "text": [
      "Resposta da API:\n",
      "{\n",
      "  \"cod\": 401,\n",
      "  \"message\": \"Invalid API key. Please see https://openweathermap.org/faq#error401 for more info.\"\n",
      "}\n",
      "Dados da API não contêm informações sobre temperatura.\n"
     ]
    }
   ],
   "source": [
    "import requests\n",
    "import json\n",
    "\n",
    "def obter_clima_cidade(api_key, cidade):\n",
    "    try:\n",
    "        url = f\"http://api.openweathermap.org/data/2.5/weather?q={cidade},BR&appid={api_key}&units=metric\"\n",
    "        resposta = requests.get(url)\n",
    "        dados = resposta.json()\n",
    "\n",
    "        # Adicionando diagnóstico para visualizar o JSON\n",
    "        print(\"Resposta da API:\")\n",
    "        print(json.dumps(dados, indent=2))  # Formatação com indentação para melhor visualização\n",
    "\n",
    "        # Verificando se a chave 'main' está presente nos dados\n",
    "        if 'main' in dados:\n",
    "            temperatura = dados[\"main\"][\"temp\"]\n",
    "            descricao = dados[\"weather\"][0][\"description\"]\n",
    "            return f'Temperatura: {temperatura}°C\\nCondição: {descricao}'\n",
    "        else:\n",
    "            return \"Dados da API não contêm informações sobre temperatura.\"\n",
    "\n",
    "    except Exception as e:\n",
    "        return f\"Erro ao obter dados: {str(e)}\"\n",
    "\n",
    "# Uso da função\n",
    "api_key = \"eb28aa4524306a77084ed4c06b33c64e\"\n",
    "cidade_nome = \"Sao Paulo\"\n",
    "clima_sao_paulo = obter_clima_cidade(api_key, cidade_nome)\n",
    "print(clima_sao_paulo)"
   ]
  }
 ],
 "metadata": {
  "kernelspec": {
   "display_name": "Python 3 (ipykernel)",
   "language": "python",
   "name": "python3"
  },
  "language_info": {
   "codemirror_mode": {
    "name": "ipython",
    "version": 3
   },
   "file_extension": ".py",
   "mimetype": "text/x-python",
   "name": "python",
   "nbconvert_exporter": "python",
   "pygments_lexer": "ipython3",
   "version": "3.11.6"
  }
 },
 "nbformat": 4,
 "nbformat_minor": 5
}
