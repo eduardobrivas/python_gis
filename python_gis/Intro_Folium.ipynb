{
 "cells": [
  {
   "cell_type": "code",
   "execution_count": 1,
   "id": "af72404f-81d4-48f2-820f-2bf135746883",
   "metadata": {},
   "outputs": [
    {
     "name": "stdout",
     "output_type": "stream",
     "text": [
      "Mapa criado com sucesso. Abra o arquivo mapa_interativo.html no seu navegador.\n"
     ]
    }
   ],
   "source": [
    "import folium\n",
    "\n",
    "def criar_mapa(camada_satelite=False):\n",
    "    # Criar um mapa centrado em uma localização específica\n",
    "    mapa = folium.Map(tiles=\"cartodb positron\",location=[-23.5505, -46.6333], zoom_start=8)\n",
    "    \n",
    "    # Adicionar a camada de satélite se a opção for True\n",
    "    if camada_satelite:\n",
    "        folium.TileLayer('https://mt1.google.com/vt/lyrs=s&x={x}&y={y}&z={z}', attr='Google Satellite', name='Google Satellite').add_to(mapa)\n",
    "    # Adiciona um TileLayer OpenStreetMap ao mapa\n",
    "    \n",
    "        folium.TileLayer('https://server.arcgisonline.com/ArcGIS/rest/services/World_Imagery/MapServer/tile/{z}/{y}/{x}', attr='Esri',name = 'Esri Satellite').add_to(mapa)\n",
    "\n",
    "    # Adiciona um controle de camadas ao mapa para permitir ao usuário alternar entre os TileLayers\n",
    "    folium.LayerControl().add_to(mapa)\n",
    "\n",
    "    # Adicionar marcadores ao mapa\n",
    "    folium.Marker(\n",
    "        location=[-23.5505, -46.6333],\n",
    "        popup=\"São Paulo - SP\",\n",
    "        icon=folium.Icon(color='blue', icon='info-sign')\n",
    "    ).add_to(mapa)\n",
    "\n",
    "    folium.Marker(\n",
    "        location=[-23.5629, -46.6544],\n",
    "        popup=\"Avenida Paulista\",\n",
    "        icon=folium.Icon(color='green', icon='ok-sign')\n",
    "    ).add_to(mapa)\n",
    "\n",
    "    folium.Marker(\n",
    "        location=[-23.5975, -46.6767],\n",
    "        popup=\"Parque Ibirapuera\",\n",
    "        icon=folium.Icon(color='red', icon='flag')\n",
    "    ).add_to(mapa)\n",
    "\n",
    "    # Salvar o mapa como um arquivo HTML\n",
    "    mapa.save(\"mapa_interativo.html\")\n",
    "\n",
    "    print(\"Mapa criado com sucesso. Abra o arquivo mapa_interativo.html no seu navegador.\")\n",
    "\n",
    "# Chamar a função para criar o mapa com a camada de satélite\n",
    "criar_mapa(camada_satelite=True)\n"
   ]
  },
  {
   "cell_type": "code",
   "execution_count": null,
   "id": "112ea879-677e-4345-a0fb-28dd26f06b6e",
   "metadata": {},
   "outputs": [],
   "source": []
  }
 ],
 "metadata": {
  "kernelspec": {
   "display_name": "Python 3 (ipykernel)",
   "language": "python",
   "name": "python3"
  },
  "language_info": {
   "codemirror_mode": {
    "name": "ipython",
    "version": 3
   },
   "file_extension": ".py",
   "mimetype": "text/x-python",
   "name": "python",
   "nbconvert_exporter": "python",
   "pygments_lexer": "ipython3",
   "version": "3.11.5"
  }
 },
 "nbformat": 4,
 "nbformat_minor": 5
}
