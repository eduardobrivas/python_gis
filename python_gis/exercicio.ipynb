{
 "cells": [
  {
   "cell_type": "markdown",
   "id": "e717d678-fe30-47cf-81fc-e7279aa0a8e6",
   "metadata": {
    "tags": []
   },
   "source": [
    "# Execicio\n",
    "   - Abra o arquivo municipios.shp\n",
    "   - Visualizar os 5 primeiros valores do arquivo \n",
    "   - Plotar os 5 primeiros valores\n",
    "   - Realizar um filtro e salvar um novo arquivo\n",
    "   - Abra o novo arquivo e calcule a area\n",
    "   - Crie um novo campo para classificação dos municipios com relação as areas\n",
    "   - Selecione as areas maiores que 0.10 e calssifique como 1 e o restante como 0\n",
    "     "
   ]
  },
  {
   "cell_type": "code",
   "execution_count": null,
   "id": "764b6937-4d81-4394-987f-38cfd473dfbc",
   "metadata": {},
   "outputs": [],
   "source": [
    "# Importando bibliotecas necessárias\n",
    "import geopandas as gpd\n",
    "import os\n",
    "import matplotlib\n",
    "import numpy as np"
   ]
  },
  {
   "cell_type": "code",
   "execution_count": null,
   "id": "6cbb0268-d54f-4ef0-9730-ec64436542d1",
   "metadata": {},
   "outputs": [],
   "source": [
    "# Definindo o caminho do arquivo .shp\n",
    "path = os.getcwd()+'\\\\dados\\\\municipios.shp'\n",
    "\n",
    "# Lendo e exibindo os dados do arquivo .shp\n",
    "dados = gpd.read_file(path)\n",
    "dados"
   ]
  },
  {
   "cell_type": "code",
   "execution_count": null,
   "id": "3d0c6266-a167-4c75-a245-fc9e782ec7eb",
   "metadata": {},
   "outputs": [],
   "source": [
    "# Exibindo os 5 primeiros valores dos dados\n",
    "dados.head()"
   ]
  },
  {
   "cell_type": "code",
   "execution_count": null,
   "id": "5723963d-d706-4abc-9318-c3f6bd17e7a5",
   "metadata": {},
   "outputs": [],
   "source": [
    "# Plotando os 5 primeiros valores\n",
    "dados[:5].plot()"
   ]
  },
  {
   "cell_type": "code",
   "execution_count": null,
   "id": "15eaab2c-188e-4bc3-a830-f37ded4a8465",
   "metadata": {},
   "outputs": [],
   "source": [
    "# Filtrando os dados para o estado de Mato Grosso (MT)\n",
    "filtro_MT = dados['uf']=='MT'\n",
    "municipios_mt = dados.loc[filtro_MT]\n",
    "municipios_mt.plot()\n",
    "\n",
    "# Salvando os municípios de Mato Grosso em um novo arquivo .shp\n",
    "municipios_mt.to_file(os.getcwd()+'\\\\dados\\\\municipios_mt.shp')"
   ]
  },
  {
   "cell_type": "code",
   "execution_count": null,
   "id": "81d605cd-e3d4-4db8-8ca6-9e46a83d093f",
   "metadata": {},
   "outputs": [],
   "source": [
    "# Lendo o novo arquivo .shp filtrado\n",
    "municipios_filtrado = gpd.read_file(os.getcwd()+'\\\\dados\\\\municipios_mt.shp')\n",
    "municipios_filtrado"
   ]
  },
  {
   "cell_type": "code",
   "execution_count": null,
   "id": "665fba35-d002-484b-99ba-083e2c39f4f1",
   "metadata": {},
   "outputs": [],
   "source": [
    "# Calculando a área dos municípios e adicionando como uma nova coluna\n",
    "municipios_filtrado['area'] = municipios_filtrado['geometry'].area\n",
    "municipios_filtrado"
   ]
  },
  {
   "cell_type": "code",
   "execution_count": null,
   "id": "d40599bc-49cf-4d94-b5f0-beff0bf4841e",
   "metadata": {},
   "outputs": [],
   "source": [
    "# Criando um novo campo de classificação com base na área\n",
    "municipios_filtrado['classe'] = np.where(municipios_filtrado['area'] > 0.1, 1, 0)\n",
    "municipios_filtrado"
   ]
  },
  {
   "cell_type": "code",
   "execution_count": null,
   "id": "7affdb78-270f-4c74-b7e8-cf93ab2f47a0",
   "metadata": {},
   "outputs": [],
   "source": [
    "# Salvando novamente o arquivo .shp com as alterações\n",
    "municipios_filtrado.to_file(os.getcwd()+'\\\\dados\\\\municipios_mt.shp')\n",
    "# Lendo o arquivo .shp atualizado\n",
    "municipios = gpd.read_file(os.getcwd()+'\\\\dados\\\\municipios_mt.shp')"
   ]
  },
  {
   "cell_type": "code",
   "execution_count": null,
   "id": "34d3d5b6-9681-4103-8209-61bddfb09e30",
   "metadata": {},
   "outputs": [],
   "source": [
    "# Configurando o sistema de referência de coordenadas (CRS)\n",
    "municipios = municipios.set_crs(epsg=4674, allow_override=True)\n",
    "municipios.crs"
   ]
  },
  {
   "cell_type": "code",
   "execution_count": null,
   "id": "e7f0cd89-952f-449a-9564-fee3fc579586",
   "metadata": {
    "tags": []
   },
   "outputs": [],
   "source": [
    "# Convertendo o CRS para um específico (31981) e calculando a área em hectares\n",
    "municipio_crs = municipios.to_crs(epsg=31981)\n",
    "municipio_crs.crs\n",
    "municipio_crs.area/10000"
   ]
  },
  {
   "cell_type": "markdown",
   "id": "b21a2037-8bfb-4a13-a54b-52b982172e70",
   "metadata": {},
   "source": [
    "# Otimizações \n",
    "   - Sugestões para deixar codigo mais eficiente e legível"
   ]
  },
  {
   "cell_type": "code",
   "execution_count": null,
   "id": "798f4899-6cf3-40f0-9192-b0d22e4039fc",
   "metadata": {
    "tags": []
   },
   "outputs": [],
   "source": [
    "# Uso de funções:\n",
    "# Importando bibliotecas necessárias\n",
    "import geopandas as gpd\n",
    "import os\n",
    "import numpy as np"
   ]
  },
  {
   "cell_type": "code",
   "execution_count": null,
   "id": "3dedf48a-d69b-4178-9669-be1719a29d1d",
   "metadata": {
    "tags": []
   },
   "outputs": [],
   "source": [
    "# Definindo funções\n",
    "\n",
    "def carregar_dados(caminho):\n",
    "    return gpd.read_file(caminho)\n",
    "\n",
    "def salvar_arquivo(dados, caminho):\n",
    "    dados.to_file(caminho)\n",
    "\n",
    "def calcular_area(dados):\n",
    "    dados['area'] = dados['geometry'].area\n",
    "    return dados\n",
    "\n",
    "def classificar_municipios(dados):\n",
    "    dados['classe'] = np.where(dados['area'] > 0.1, 1, 0)\n",
    "    return dados\n"
   ]
  },
  {
   "cell_type": "code",
   "execution_count": null,
   "id": "235491f5-5d6c-4568-9145-91e6687c45cd",
   "metadata": {
    "tags": []
   },
   "outputs": [],
   "source": [
    "# Uso das funções\n",
    "caminho_arquivo = os.getcwd() + '\\\\dados\\\\municipios.shp'\n",
    "dados = carregar_dados(caminho_arquivo)\n",
    "\n",
    "# ... outras operações ...\n",
    "\n",
    "# Exemplo de uso das funções\n",
    "dados = calcular_area(dados)\n",
    "dados = classificar_municipios(dados)\n",
    "salvar_arquivo(dados, os.getcwd() + '\\\\dados\\\\municipios_classificados.shp')"
   ]
  },
  {
   "cell_type": "code",
   "execution_count": null,
   "id": "0fa99e08-01bd-400c-96fc-13c9a398ac0f",
   "metadata": {
    "tags": []
   },
   "outputs": [],
   "source": [
    "# Tratamento de Erros:\n",
    "\n",
    "try:\n",
    "    dados = carregar_dados(caminho_arquivo)\n",
    "    # Restante do código\n",
    "except FileNotFoundError:\n",
    "    print(\"Arquivo não encontrado.\")\n",
    "except Exception as e:\n",
    "    print(f\"Ocorreu um erro: {e}\")"
   ]
  },
  {
   "cell_type": "code",
   "execution_count": null,
   "id": "dc878ba5-bab1-4a6b-ac9f-f3369bf3b207",
   "metadata": {
    "tags": []
   },
   "outputs": [],
   "source": [
    "# Documentação\n",
    "def carregar_dados(caminho):\n",
    "    \"\"\"\n",
    "    Carrega dados a partir de um arquivo .shp.\n",
    "\n",
    "    Parameters:\n",
    "    - caminho (str): Caminho do arquivo .shp.\n",
    "\n",
    "    Returns:\n",
    "    - geopandas.geodataframe.GeoDataFrame: Dados carregados.\n",
    "    \"\"\"\n",
    "    return gpd.read_file(caminho)"
   ]
  },
  {
   "cell_type": "code",
   "execution_count": null,
   "id": "9115cd9e-c2ab-47fc-b1bc-43d4f72d6812",
   "metadata": {},
   "outputs": [],
   "source": [
    "import geopandas as gpd\n",
    "import os\n",
    "import numpy as np\n",
    "\n",
    "def carregar_dados(caminho):\n",
    "    return gpd.read_file(caminho)\n",
    "\n",
    "def salvar_arquivo(dados, caminho):\n",
    "    dados.to_file(caminho)\n",
    "\n",
    "def calcular_area(dados):\n",
    "    dados['area'] = dados['geometry'].area\n",
    "    return dados\n",
    "\n",
    "def classificar_municipios(dados, limiar_area=0.1):\n",
    "    dados['classe'] = np.where(dados['area'] > limiar_area, 1, 0)\n",
    "    return dados\n",
    "\n",
    "# Solicitar caminho do arquivo\n",
    "caminho_arquivo = input(\"Digite o caminho do arquivo .shp: \")\n",
    "\n",
    "try:\n",
    "    # Carregar dados\n",
    "    dados = carregar_dados(caminho_arquivo)\n",
    "\n",
    "    # Calcular área\n",
    "    dados = calcular_area(dados)\n",
    "\n",
    "    # Solicitar limiar para classificação\n",
    "    limiar_area = float(input(\"Digite o limiar de área para classificação: \"))\n",
    "\n",
    "    # Classificar municípios\n",
    "    dados = classificar_municipios(dados, limiar_area)\n",
    "\n",
    "    # Salvar arquivo\n",
    "    salvar_arquivo(dados, os.path.splitext(caminho_arquivo)[0] + '_classificado.shp')\n",
    "\n",
    "    print(\"Operações concluídas com sucesso!\")\n",
    "\n",
    "except FileNotFoundError:\n",
    "    print(\"Arquivo não encontrado.\")\n",
    "except ValueError:\n",
    "    print(\"Por favor, insira um valor numérico válido para o limiar de área.\")\n",
    "except Exception as e:\n",
    "    print(f\"Ocorreu um erro: {e}\")"
   ]
  }
 ],
 "metadata": {
  "kernelspec": {
   "display_name": "Python 3 (ipykernel)",
   "language": "python",
   "name": "python3"
  },
  "language_info": {
   "codemirror_mode": {
    "name": "ipython",
    "version": 3
   },
   "file_extension": ".py",
   "mimetype": "text/x-python",
   "name": "python",
   "nbconvert_exporter": "python",
   "pygments_lexer": "ipython3",
   "version": "3.11.5"
  }
 },
 "nbformat": 4,
 "nbformat_minor": 5
}
