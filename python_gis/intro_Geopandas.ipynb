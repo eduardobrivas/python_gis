{
 "cells": [
  {
   "cell_type": "code",
   "execution_count": null,
   "id": "1a95e068-cf43-4cf0-b2d2-86d369be6ac6",
   "metadata": {},
   "outputs": [],
   "source": [
    "import geopandas as gpd\n",
    "import os\n",
    "import matplotlib"
   ]
  },
  {
   "cell_type": "code",
   "execution_count": null,
   "id": "e151e656-d93f-4c3e-ab2b-5f81a04df9e6",
   "metadata": {},
   "outputs": [],
   "source": [
    "os.getcwd()path = os.getcwd()+'\\\\dados\\\\municipios.shp'\n",
    "path\n",
    "data = gpd.read_file(path)"
   ]
  },
  {
   "cell_type": "code",
   "execution_count": null,
   "id": "73919398-7bdb-43e8-a6d1-6310405f5f13",
   "metadata": {
    "tags": []
   },
   "outputs": [],
   "source": [
    "data.plot()"
   ]
  },
  {
   "cell_type": "code",
   "execution_count": null,
   "id": "d90ac952-c0cc-47c3-91b3-b82b8fa92959",
   "metadata": {},
   "outputs": [],
   "source": [
    "type(data)"
   ]
  },
  {
   "cell_type": "code",
   "execution_count": null,
   "id": "cfb6eae0-46a5-40a7-8838-e7e17a742ea6",
   "metadata": {},
   "outputs": [],
   "source": [
    "data.head()"
   ]
  },
  {
   "cell_type": "code",
   "execution_count": null,
   "id": "185e93e9-a23e-494c-ba47-dbdc29f25ea1",
   "metadata": {},
   "outputs": [],
   "source": [
    "data.crs"
   ]
  },
  {
   "cell_type": "code",
   "execution_count": null,
   "id": "73a08eaf-fb86-43c0-a0c6-2e9bda7c3ddb",
   "metadata": {},
   "outputs": [],
   "source": [
    "filtro = data[:10]"
   ]
  },
  {
   "cell_type": "code",
   "execution_count": null,
   "id": "a0211567-f551-4e37-9516-8bc16b5746f4",
   "metadata": {},
   "outputs": [],
   "source": [
    "filtro"
   ]
  },
  {
   "cell_type": "code",
   "execution_count": null,
   "id": "8afbc5aa-d594-4c65-b8bd-b5d9fc074444",
   "metadata": {},
   "outputs": [],
   "source": [
    "filtro.plot()"
   ]
  },
  {
   "cell_type": "code",
   "execution_count": null,
   "id": "ce4bf04a-c24b-4247-9749-2a1da9bd7283",
   "metadata": {},
   "outputs": [],
   "source": [
    "path_out = os.getcwd()+'\\\\dados\\\\municipios_filter.shp'\n",
    "filtro.to_file(path_out)"
   ]
  },
  {
   "cell_type": "code",
   "execution_count": null,
   "id": "c16f7f93-db8a-488b-be99-61eee0c516ec",
   "metadata": {},
   "outputs": [],
   "source": [
    "data_filter = gpd.read_file(path_out)"
   ]
  },
  {
   "cell_type": "code",
   "execution_count": null,
   "id": "01a60320-d45e-4eff-b8c0-dddeca5f5b6d",
   "metadata": {},
   "outputs": [],
   "source": [
    "data_filter.plot()"
   ]
  },
  {
   "cell_type": "code",
   "execution_count": null,
   "id": "fb1c274b-1cdd-4384-8ce2-cfd59af16f0b",
   "metadata": {},
   "outputs": [],
   "source": [
    "#loc e iloc\n",
    "data[:20]\n",
    "data.loc[:10, : 'municipio']\n",
    "data.loc[2]\n",
    "# type(data.loc[2])\n",
    "data.loc[:2, :]"
   ]
  },
  {
   "cell_type": "code",
   "execution_count": null,
   "id": "b4a633f3-0f83-41ce-9649-4c3045b7262a",
   "metadata": {},
   "outputs": [],
   "source": [
    "iltro_bol = data['id']>6125\n",
    "filtro_bol = data.loc[filtro_bol]"
   ]
  },
  {
   "cell_type": "code",
   "execution_count": null,
   "id": "6c06cb41-bf0c-4dc1-9743-debb12c99dac",
   "metadata": {},
   "outputs": [],
   "source": [
    "filtro_bol.plot()"
   ]
  },
  {
   "cell_type": "code",
   "execution_count": null,
   "id": "006d37b8-e518-413b-961c-9638f65d8869",
   "metadata": {},
   "outputs": [],
   "source": [
    "#and = &\n",
    "#or = |\n",
    "\n",
    "filtro_bol = (data['id']>6125) & (data['geocodigo']=='4128708') \n",
    "data.loc[filtro_bol]"
   ]
  },
  {
   "cell_type": "code",
   "execution_count": null,
   "id": "8a546105-98d2-47c9-bcbc-9bda8057c052",
   "metadata": {
    "tags": []
   },
   "outputs": [],
   "source": [
    "data['area'] = data.loc[:, 'geometry'].area\n",
    "data"
   ]
  }
 ],
 "metadata": {
  "kernelspec": {
   "display_name": "Python 3 (ipykernel)",
   "language": "python",
   "name": "python3"
  },
  "language_info": {
   "codemirror_mode": {
    "name": "ipython",
    "version": 3
   },
   "file_extension": ".py",
   "mimetype": "text/x-python",
   "name": "python",
   "nbconvert_exporter": "python",
   "pygments_lexer": "ipython3",
   "version": "3.11.6"
  }
 },
 "nbformat": 4,
 "nbformat_minor": 5
}
