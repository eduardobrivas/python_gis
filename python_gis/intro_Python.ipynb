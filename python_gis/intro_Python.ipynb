{
 "cells": [
  {
   "cell_type": "markdown",
   "id": "83070038-12dc-47ff-9779-e0fe10bb404e",
   "metadata": {},
   "source": [
    "# Intodução python"
   ]
  },
  {
   "cell_type": "code",
   "execution_count": 1,
   "id": "8a5d8399-885a-4d11-a6b9-97aa5d918cca",
   "metadata": {},
   "outputs": [],
   "source": [
    "## Tipos basicos de Python\n",
    "# int\n",
    "# float\n",
    "# string - str\n",
    "# boleano\n",
    "\n",
    "# x = 2\n",
    "# y = 4\n",
    "# z = 6 \n",
    "# a = True\n",
    "# b = False\n",
    "\n",
    "# print(type(x)\n",
    "# print(str(x))"
   ]
  },
  {
   "cell_type": "markdown",
   "id": "38ced981-c129-4b6d-b6fb-629521321924",
   "metadata": {},
   "source": [
    "###  Tipos de operadores com Python"
   ]
  },
  {
   "cell_type": "code",
   "execution_count": 2,
   "id": "1ec691ad-623f-46e0-a42a-53362df4278e",
   "metadata": {},
   "outputs": [],
   "source": [
    "# tipos de operadores com python\n",
    "# + - * / ** += -= %\n",
    "# # adição\n",
    "# print(x + y)\n",
    "# # Subtração \n",
    "# print(x-y)\n",
    "# # Multiplicação \n",
    "# print(x * y)\n",
    "# # divisão\n",
    "# print (x/y)\n",
    "# #Potenciação\n",
    "# print(x**2)\n",
    "# # Incrementar\n",
    "# x += 1\n",
    "# print(x)\n",
    "# # Decrementar\n",
    "# x-=1\n",
    "# print(x)\n",
    "# # Modulo/resto\n",
    "# 4%3\n",
    "#print(20*texto)\n",
    "#    print('eduardo basseggio ' + texto)\n",
    "#### transformar de float para str\n",
    "#   print(str(20)+texto)"
   ]
  },
  {
   "cell_type": "markdown",
   "id": "c4dc7973-38ff-4746-a057-4bd8281186ac",
   "metadata": {},
   "source": [
    "### Operadores de Comparação"
   ]
  },
  {
   "cell_type": "code",
   "execution_count": 3,
   "id": "9ba3b202-e02a-401a-819a-4f7f7ca87ada",
   "metadata": {},
   "outputs": [],
   "source": [
    "# > < == >= <= !=\n",
    "\n",
    "# Definindo duas variáveis\n",
    "# a = 10\n",
    "# b = 5\n",
    "\n",
    "# Maior que\n",
    "# if a > b:\n",
    "#    print(f\"{a} é maior que {b}\")\n",
    "\n",
    "### -- f-strings --\n",
    "## A letra 'f' antes das aspas indica que a string é uma f-string, e as expressões dentro das chaves {} são avaliadas e inseridas na string.\n",
    "## f\"{a} é maior que {b}\": Aqui, {a} e {b} são expressões dentro da string que são substituídas pelos valores de a e b durante a formatação da string.\n",
    "## Isso é equivalente a usar str(a) + \" é maior que \" + str(b).\n",
    "\n",
    "#### Se a condição do \"if\" for verdadeira, o bloco \"if\"é executado; caso contrário, se houver um bloco \"else\", ele é executado!\n",
    "\n",
    "# Menor que\n",
    "# if a < b:\n",
    "#     print(f\"{a} é menor que {b}\")\n",
    "# else:\n",
    "##    print(f\"{a} não é menor que {b}\")\n",
    "\n",
    "# # Igual a\n",
    "# if a == b:\n",
    "#     print(f\"{a} é igual a {b}\")\n",
    "# else:\n",
    "#     print(f\"{a} não é igual a {b}\")\n",
    "\n",
    "# # Maior ou igual a\n",
    "# if a >= b:\n",
    "#     print(f\"{a} é maior ou igual a {b}\")\n",
    "\n",
    "# # Menor ou igual a\n",
    "# if b <= a:\n",
    "#     print(f\"{b} é menor ou igual a {a}\")\n",
    "\n",
    "# # Diferente de\n",
    "# if a != b:\n",
    "#     print(f\"{a} é diferente de {b}\")\n"
   ]
  },
  {
   "cell_type": "markdown",
   "id": "5c5d6069-b765-4dba-a8f8-5cfda1f0c83e",
   "metadata": {},
   "source": [
    "### Tipos de Operadores Lógicos"
   ]
  },
  {
   "cell_type": "code",
   "execution_count": 4,
   "id": "176f9c62-cdcb-467b-b278-ffafb8b3c89c",
   "metadata": {},
   "outputs": [],
   "source": [
    "# \"and\" \"or\" \"not\"\n",
    "\n",
    "# # Exemplo de operadores lógicos em Python\n",
    "\n",
    "# # Definindo variáveis\n",
    "# idade = 25\n",
    "# tem_cartao = True\n",
    "\n",
    "# # Verificando condições com operador 'and'\n",
    "# if idade >= 18 and tem_cartao:\n",
    "#     print(\"Pode fazer compras, é maior de idade e tem cartão.\")\n",
    "# else:\n",
    "#     print(\"Não pode fazer compras, não atende a ambas as condições.\")\n",
    "\n",
    "# # Verificando condições com operador 'or'\n",
    "# tem_promocao = True\n",
    "# preco = 30\n",
    "\n",
    "# if tem_promocao or preco < 20:\n",
    "#     print(\"Pode comprar com desconto, pois há promoção ou o preço é baixo.\")\n",
    "# else:\n",
    "#     print(\"Não há desconto, nem promoção ou o preço não é baixo.\")\n",
    "\n",
    "# # Verificando condições com operador 'not'\n",
    "# tem_desconto = not tem_promocao\n",
    "\n",
    "# if not tem_desconto:\n",
    "#     print(\"Não há desconto.\")\n",
    "# else:\n",
    "#     print(\"Há desconto.\")\n",
    "\n",
    "# # Combinação de operadores lógicos\n",
    "# nota = 75\n",
    "\n",
    "# if idade >= 18 and (nota > 70 or tem_cartao):\n",
    "#     print(\"Pode entrar na festa, pois é maior de idade e atende a pelo menos uma das outras condições.\")\n",
    "# else:\n",
    "#     print(\"Não pode entrar na festa.\")"
   ]
  },
  {
   "cell_type": "markdown",
   "id": "6a4a654c-fde5-4732-aed7-8d1604ebd006",
   "metadata": {},
   "source": [
    "### Estrutura de dados"
   ]
  },
  {
   "cell_type": "code",
   "execution_count": 4,
   "id": "4a875c30-eaca-4e44-bd8f-ab678b816cac",
   "metadata": {},
   "outputs": [],
   "source": [
    "# lista\n",
    "# tuplas\n",
    "# dicionarios\n",
    "\n",
    "lista_a = [1, 2, 3, 2, 'rivas','teste','pandas'] #Coleção de itens ordenados e mutáveis.\n",
    "tupla_a = (1, 2, 3, 'rivas') #Coleção de itens ordenados e imutáveis.\n",
    "dicionario = {\"nome\":'rivas',\"idade\":35} #Coleção de pares chave-valor não ordenados e mutáveis.\n"
   ]
  },
  {
   "cell_type": "code",
   "execution_count": 27,
   "id": "4a619a51-f4f1-4a49-a65a-3876b08a8489",
   "metadata": {},
   "outputs": [],
   "source": [
    "## funções ---- lista\n",
    "# len \n",
    "# slide\n",
    "# append\n",
    "# 'remove' 'pop' 'del' \n",
    "# sort\n",
    "\n",
    "##len(lista_a)\n",
    "\n",
    "# slide--- \n",
    "# lista_a[:4]\n",
    "# lista_a[-1]\n",
    "\n",
    "# lista_a.append('eduardo')\n",
    "# lista_a\n",
    "\n",
    "# lista_formatada = lista_a[:5]\n",
    "# lista_formatada\n",
    "\n",
    "# lista_a.remove(2) # retira o primeiro valor coincidente \n",
    "# lista_a\n",
    "\n",
    "# lista_a.pop(5) # retira o valor pelo indice especificado\n",
    "# lista_a\n",
    "\n",
    "# del lista_a[2]\n",
    "# lista_a\n",
    "\n",
    "##- ordenar lista\n",
    "# lista_formatada = sorted(lista_a[:4])\n",
    "# lista_formatada"
   ]
  },
  {
   "cell_type": "code",
   "execution_count": 38,
   "id": "bec839b7-92be-420a-a56d-27909f9973c4",
   "metadata": {},
   "outputs": [],
   "source": [
    "## funções ---- tuplas--- imutavel\n",
    "\n",
    "# print(type(tupla_a))\n",
    "# tupla_b = (2,)\n",
    "# tupla_c = tupla_a + tupla_b\n",
    "# tupla_a == tupla_c\n"
   ]
  },
  {
   "cell_type": "code",
   "execution_count": 15,
   "id": "256a9b37-7473-45f7-b143-2581c1b78ac9",
   "metadata": {},
   "outputs": [],
   "source": [
    "## funções ---- dicionario\n",
    "\n",
    "# meu_dicionario = {}\n",
    "# meu_dicionario\n",
    "# print(type(meu_dicionario))\n",
    "\n",
    "meu_dicionario = {\"nome\":'rivas',\n",
    "                \"idade\":26,\n",
    "                \"profissão\":'analista'}\n",
    "# print(meu_dicionario[\"nome\"], meu_dicionario[\"profissão\"])\n",
    "\n",
    "meu_dicionario[\"nome\"] = 'Rivas'\n",
    "meu_dicionario[\"Empresa\"] = 'Autonomo'\n"
   ]
  },
  {
   "cell_type": "code",
   "execution_count": 16,
   "id": "022d1ae4-9e73-4be5-8fd3-0a2697a16d86",
   "metadata": {},
   "outputs": [
    {
     "data": {
      "text/plain": [
       "{'nome': 'Rivas', 'idade': 26, 'profissão': 'analista', 'Empresa': 'Autonomo'}"
      ]
     },
     "execution_count": 16,
     "metadata": {},
     "output_type": "execute_result"
    }
   ],
   "source": [
    "meu_dicionario"
   ]
  },
  {
   "cell_type": "code",
   "execution_count": 17,
   "id": "18f038df-f257-4afe-9592-25a4cb6a54fd",
   "metadata": {},
   "outputs": [
    {
     "data": {
      "text/plain": [
       "{'nome': 'Rivas', 'idade': 26, 'profissão': 'analista'}"
      ]
     },
     "execution_count": 17,
     "metadata": {},
     "output_type": "execute_result"
    }
   ],
   "source": [
    "del meu_dicionario[\"Empresa\"]\n",
    "meu_dicionario"
   ]
  },
  {
   "cell_type": "markdown",
   "id": "9e2f601e-2819-44a0-9ba8-d93f8e23cd41",
   "metadata": {},
   "source": [
    "### Estrutura de Repetição while"
   ]
  },
  {
   "cell_type": "code",
   "execution_count": 18,
   "id": "65789644-9263-4b30-92bc-1b3ed07fb7ad",
   "metadata": {},
   "outputs": [
    {
     "name": "stdout",
     "output_type": "stream",
     "text": [
      "1\n",
      "2\n",
      "3\n",
      "2\n",
      "rivas\n",
      "teste\n",
      "pandas\n",
      "1\n",
      "2\n",
      "3\n",
      "rivas\n",
      "{'nome': 'Rivas', 'idade': 26, 'profissão': 'analista'}\n",
      "{'nome': 'Rivas', 'idade': 26, 'profissão': 'analista'}\n",
      "{'nome': 'Rivas', 'idade': 26, 'profissão': 'analista'}\n"
     ]
    }
   ],
   "source": [
    "count = 0\n",
    "while count <= len(lista_a)-1:\n",
    "    print(lista_a[count])\n",
    "    count+=1\n",
    "\n",
    "count = 0\n",
    "while count <= len(tupla_a)-1:\n",
    "    print(tupla_a[count])\n",
    "    count+=1\n",
    "\n",
    "count = 0\n",
    "while count <= len(meu_dicionario)-1:\n",
    "    print(meu_dicionario)\n",
    "    count+=1"
   ]
  },
  {
   "cell_type": "markdown",
   "id": "4cfb8082-e0a4-499a-89b9-8c21e9f8ef00",
   "metadata": {},
   "source": [
    "### Estrutura de repetição For"
   ]
  },
  {
   "cell_type": "code",
   "execution_count": 23,
   "id": "cf20bae2-f697-48dc-85ce-8f89640eee66",
   "metadata": {},
   "outputs": [
    {
     "name": "stdout",
     "output_type": "stream",
     "text": [
      "0 1\n",
      "1 2\n",
      "2 3\n",
      "3 2\n",
      "4 rivas\n",
      "5 teste\n",
      "6 pandas\n"
     ]
    }
   ],
   "source": [
    "for index, element in enumerate(lista_a):\n",
    "    print(index, element)"
   ]
  },
  {
   "cell_type": "code",
   "execution_count": 34,
   "id": "5d5a0751-b3a8-458b-b9bf-ce510182825a",
   "metadata": {},
   "outputs": [
    {
     "name": "stdout",
     "output_type": "stream",
     "text": [
      "0\n",
      "O index tem valor menor ou igual que 1\n",
      "1\n",
      "O index tem valor menor ou igual que 1\n",
      "2\n",
      "O idex temm valor igual a 2\n",
      "3\n",
      "O index tem valor maior que 2\n",
      "4\n",
      "O index tem valor maior que 2\n",
      "5\n",
      "O index tem valor maior que 2\n",
      "6\n",
      "O index tem valor maior que 2\n"
     ]
    }
   ],
   "source": [
    "for index, element in enumerate (lista_a):\n",
    "    if index <= 1:\n",
    "        print(index)\n",
    "        print('O index tem valor menor ou igual que 1')\n",
    "    elif index==2:\n",
    "        print(index)\n",
    "        print('O idex temm valor igual a 2')\n",
    "    else:\n",
    "         print(index)\n",
    "         print('O index tem valor maior que 2')"
   ]
  },
  {
   "cell_type": "markdown",
   "id": "5e07bda1-8d9c-4997-9ae1-1b4b67831844",
   "metadata": {},
   "source": [
    "### Funções Python"
   ]
  },
  {
   "cell_type": "code",
   "execution_count": 40,
   "id": "62912612-092f-4ae5-a134-897b9aba9814",
   "metadata": {},
   "outputs": [],
   "source": [
    "## def ---\n",
    "\n",
    "def soma(x,y):\n",
    "    return x+y\n",
    "\n",
    "def multiplica(x,y):\n",
    "    return x*y"
   ]
  },
  {
   "cell_type": "code",
   "execution_count": 42,
   "id": "43404506-3006-4970-aa5e-5aa3d3fa9311",
   "metadata": {},
   "outputs": [
    {
     "data": {
      "text/plain": [
       "8"
      ]
     },
     "execution_count": 42,
     "metadata": {},
     "output_type": "execute_result"
    }
   ],
   "source": [
    "soma(6,2)"
   ]
  },
  {
   "cell_type": "code",
   "execution_count": 44,
   "id": "eae022fe-cd6f-4192-90ed-712396ae87da",
   "metadata": {},
   "outputs": [
    {
     "data": {
      "text/plain": [
       "6"
      ]
     },
     "execution_count": 44,
     "metadata": {},
     "output_type": "execute_result"
    }
   ],
   "source": [
    "multiplica(2,3)"
   ]
  },
  {
   "cell_type": "code",
   "execution_count": 45,
   "id": "1108e4a0-ac12-499d-887f-de15cc45fb5b",
   "metadata": {},
   "outputs": [
    {
     "data": {
      "text/plain": [
       "[1, 2, 3, 2, 'rivas', 'teste', 'pandas']"
      ]
     },
     "execution_count": 45,
     "metadata": {},
     "output_type": "execute_result"
    }
   ],
   "source": [
    "lista_a"
   ]
  },
  {
   "cell_type": "code",
   "execution_count": 47,
   "id": "921c7a86-2d24-432e-b79a-9747c417d1b1",
   "metadata": {},
   "outputs": [],
   "source": [
    "def retorna_elementos (lista):\n",
    "    return lista[:4]"
   ]
  },
  {
   "cell_type": "code",
   "execution_count": 52,
   "id": "b7eae4fe-66b9-42be-8fef-930bed3e230b",
   "metadata": {},
   "outputs": [
    {
     "data": {
      "text/plain": [
       "(1, 2, 3, 'rivas')"
      ]
     },
     "execution_count": 52,
     "metadata": {},
     "output_type": "execute_result"
    }
   ],
   "source": [
    "retorna_elementos(tupla_a)"
   ]
  },
  {
   "cell_type": "markdown",
   "id": "30ad79da-1126-46a9-bd44-9f8e0e7ce3b7",
   "metadata": {},
   "source": [
    "### Exercicio fixa"
   ]
  },
  {
   "cell_type": "code",
   "execution_count": 95,
   "id": "ff2f8498-b7b6-4c77-818f-11cd179bf87c",
   "metadata": {},
   "outputs": [
    {
     "data": {
      "text/plain": [
       "['Ricardo', 'João', 'Benedito', 'Suzete', 'Maria Eduarda', 'João Paulo']"
      ]
     },
     "execution_count": 95,
     "metadata": {},
     "output_type": "execute_result"
    }
   ],
   "source": [
    "lista = ['Ricardo', 'João', 'Benedito', 'Suzete', 'Maria Eduarda','João Paulo']\n",
    "lista"
   ]
  },
  {
   "cell_type": "code",
   "execution_count": 120,
   "id": "5380fddb-df37-4d4b-b7c7-08072c136005",
   "metadata": {},
   "outputs": [],
   "source": [
    "def inicial_letter(letter,lista):\n",
    "    lista_filtrada = []\n",
    "    for word in lista:\n",
    "        if word.upper().startswith(letter.upper()):\n",
    "            lista_filtrada.append(word)\n",
    "    return lista_filtrada\n",
    "\n",
    "def maior_que_limite(letter,lista):\n",
    "    for elemnt in inicial_letter(letter,lista):\n",
    "        if len(elemnt) > 4:\n",
    "            print(f'A palavra {elemnt} tem {len(elemnt)}')\n",
    "\n",
    "    return "
   ]
  },
  {
   "cell_type": "code",
   "execution_count": 121,
   "id": "b07e3a36-1dc8-460f-9cf7-dc1c9311da3b",
   "metadata": {},
   "outputs": [
    {
     "name": "stdout",
     "output_type": "stream",
     "text": [
      "A palavra João Paulo tem 10\n"
     ]
    }
   ],
   "source": [
    "maior_que_limite('j',lista)"
   ]
  }
 ],
 "metadata": {
  "kernelspec": {
   "display_name": "Python 3 (ipykernel)",
   "language": "python",
   "name": "python3"
  },
  "language_info": {
   "codemirror_mode": {
    "name": "ipython",
    "version": 3
   },
   "file_extension": ".py",
   "mimetype": "text/x-python",
   "name": "python",
   "nbconvert_exporter": "python",
   "pygments_lexer": "ipython3",
   "version": "3.11.6"
  }
 },
 "nbformat": 4,
 "nbformat_minor": 5
}
