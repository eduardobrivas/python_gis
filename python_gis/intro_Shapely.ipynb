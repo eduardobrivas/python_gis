{
 "cells": [
  {
   "cell_type": "markdown",
   "id": "77620521-5c9a-44a1-8342-4c8944977731",
   "metadata": {},
   "source": [
    "# Shapely. - formato de dados geograficos"
   ]
  },
  {
   "cell_type": "code",
   "execution_count": null,
   "id": "245771ae-36ae-4820-b268-9d8073a8cc3d",
   "metadata": {},
   "outputs": [],
   "source": [
    "from shapely.geometry import Point, LineString, Polygon"
   ]
  },
  {
   "cell_type": "markdown",
   "id": "c76accac-28cb-4c92-8671-644a3903da4d",
   "metadata": {},
   "source": [
    "### Point"
   ]
  },
  {
   "cell_type": "code",
   "execution_count": null,
   "id": "964c41bd-be5a-4ca6-b6a9-c15b57e5931c",
   "metadata": {},
   "outputs": [],
   "source": [
    "# Exemplo com Point\n",
    "ponto1 = Point(0, 0)\n",
    "ponto2 = Point(1, 1)\n",
    "ponto3 = Point(2, 2)\n",
    "ponto4 = Point(4, 1)\n",
    "ponto3d = Point(2, 3, 140)\n",
    "\n",
    "#----# # Print objeto coordenadas\n",
    "# coordenada_p1 = ponto1.coords\n",
    "# coordenada_p1\n",
    "#----# # Print coordenadas x e y \n",
    "# p1xy= ponto1.xy\n",
    "# p1xy\n",
    "#----# # Print coordenadas x \n",
    "# xp1 = ponto1.x\n",
    "# xp1\n",
    "#----# # Print coordenadas x e y \n",
    "# yp1 = ponto1.y\n",
    "# yp1"
   ]
  },
  {
   "cell_type": "code",
   "execution_count": null,
   "id": "a63ce1a0-5bfb-4ee6-804a-6271737862da",
   "metadata": {},
   "outputs": [],
   "source": [
    "# Verificando a distância entre dois pontos\n",
    "pontoA = Point (20, 40)\n",
    "pontoB = Point (40, 80)\n",
    "\n",
    "distancia = pontoA.distance(pontoB)\n",
    "print(f'Distância entre pontoA e pontoB: {distancia}')\n"
   ]
  },
  {
   "cell_type": "markdown",
   "id": "8f10690b-5a8f-48f6-98ed-1a1e87474880",
   "metadata": {},
   "source": [
    "### Line"
   ]
  },
  {
   "cell_type": "code",
   "execution_count": null,
   "id": "2fedf936-9a9c-40d7-9a0b-a8bd4f0d0289",
   "metadata": {},
   "outputs": [],
   "source": [
    "# Exemplo com LineString\n",
    "linha1 = LineString([ponto1, ponto2, ponto3,ponto4])\n",
    "linha2 = LineString([(5.2,6.4), (8.3,4.7), (10.2,8.4), (12.9,15.4)])\n",
    "linha2"
   ]
  },
  {
   "cell_type": "code",
   "execution_count": null,
   "id": "994ef53e-6dde-4090-a702-cd70e2d2b48a",
   "metadata": {},
   "outputs": [],
   "source": [
    "# # Verificando o comprimento da linha 1\n",
    "comprimento = linha1.length\n",
    "print(f'Comprimento da linha 1: {comprimento}')"
   ]
  },
  {
   "cell_type": "code",
   "execution_count": null,
   "id": "32d67918-eb99-4e17-bd4f-ad87eb47faa4",
   "metadata": {},
   "outputs": [],
   "source": [
    "# # Verificando o comprimento da linha\n",
    "comprimento = linha2.length\n",
    "print(f'Comprimento da linha 2: {comprimento}')"
   ]
  },
  {
   "cell_type": "markdown",
   "id": "bd52b035-2038-4d01-871c-9b7657a12495",
   "metadata": {},
   "source": [
    "### Polygon"
   ]
  },
  {
   "cell_type": "code",
   "execution_count": null,
   "id": "1775ee8e-fe80-4963-a7c8-39ef3023785b",
   "metadata": {},
   "outputs": [],
   "source": [
    "# Exemplo com Polygon\n",
    "poligono = Polygon([(0, 0), (0, 1), (1, 1), (1, 0)])\n",
    "\n",
    "# Verificando a área do polígono\n",
    "area = poligono.area\n",
    "print(f'Área do polígono: {area}')\n",
    "\n",
    "# Verificando se um ponto está dentro do polígono\n",
    "ponto_teste = Point(0.5, 0.5)\n",
    "esta_dentro = ponto_teste.within(poligono)\n",
    "print(f'O ponto_teste está dentro do polígono? {esta_dentro}')"
   ]
  },
  {
   "cell_type": "code",
   "execution_count": null,
   "id": "14c7dac1-99bc-4037-9043-f757bb5f4f28",
   "metadata": {},
   "outputs": [],
   "source": [
    "# Criando uma lista de pontos\n",
    "lista_pontos = [ponto1, ponto2, ponto3, ponto4, pontoA, pontoB]\n",
    "\n",
    "# Criando simples\n",
    "Polygon([[i.x, i.y] for i in lista_pontos])\n",
    "\n",
    "# Criando um polígono a partir da lista de pontos\n",
    "poligono_campo = Polygon([[i.x, i.y] for i in lista_pontos])\n",
    "\n",
    "# Exibindo o polígono criado\n",
    "poligono_campo\n",
    "\n",
    "# Calculando a área do polígono\n",
    "area_do_poligono = poligono_campo.area\n",
    "\n",
    "# Acessando a fronteira do polígono\n",
    "fronteira_do_poligono = poligono_campo.boundary\n",
    "\n",
    "# Calculando o centróide do polígono\n",
    "centroide_do_poligono = poligono_campo.centroid"
   ]
  },
  {
   "cell_type": "code",
   "execution_count": null,
   "id": "642791f1-b405-40df-af7a-d316969b5fd5",
   "metadata": {},
   "outputs": [],
   "source": [
    "# Acessando a perimetro exterior do polígono\n",
    "exterior_poly = poligono_campo.exterior\n",
    "\n",
    "# Calculando o comprimento da perimetro \n",
    "comprimento = exterior_poly.length"
   ]
  },
  {
   "cell_type": "markdown",
   "id": "0b73ace8-a07c-4a1b-8aad-25ba481333f1",
   "metadata": {},
   "source": [
    "### MultiPoint"
   ]
  },
  {
   "cell_type": "code",
   "execution_count": null,
   "id": "b2cf8e0c-772b-4d2a-9f25-6fa47ad09f2d",
   "metadata": {},
   "outputs": [],
   "source": [
    "# Importando a classe MultiPoint da biblioteca shapely.geometry\n",
    "from shapely.geometry import MultiPoint\n",
    "\n",
    "# Criando uma coleção de pontos usando MultiPoint\n",
    "pontos = MultiPoint([(0, 0), (1, 2), (2, 3)])\n",
    "pontos"
   ]
  },
  {
   "cell_type": "markdown",
   "id": "42c59e36-0e1c-4949-b23d-61e07b7f4c30",
   "metadata": {},
   "source": [
    "### MultiLineString"
   ]
  },
  {
   "cell_type": "code",
   "execution_count": null,
   "id": "e011a7b5-1e8c-47a7-b9c6-6471ef4b0679",
   "metadata": {},
   "outputs": [],
   "source": [
    "# Importando a classe MultiLineString da biblioteca shapely.geometry\n",
    "from shapely.geometry import MultiLineString\n",
    "\n",
    "# Criando uma coleção de linhas usando MultiLineString\n",
    "linhas = MultiLineString([[(0, 0), (1, 2), (2, 3)], [(4, 5), (6, 7), (8, 9)]])\n",
    "linhas"
   ]
  },
  {
   "cell_type": "markdown",
   "id": "1a670fbc-17a6-4e7d-b85e-794be19fcdff",
   "metadata": {},
   "source": [
    "### MultiPolygon"
   ]
  },
  {
   "cell_type": "code",
   "execution_count": 4,
   "id": "26190d84-176a-4b24-b972-687e34ad74ba",
   "metadata": {},
   "outputs": [
    {
     "name": "stdout",
     "output_type": "stream",
     "text": [
      "MULTIPOLYGON (((0 0, 0 1, 1 1, 1 0, 0 0)), ((2 2, 2 3, 3 3, 3 2, 2 2)))\n"
     ]
    },
    {
     "data": {
      "image/svg+xml": [
       "<svg xmlns=\"http://www.w3.org/2000/svg\" xmlns:xlink=\"http://www.w3.org/1999/xlink\" width=\"100.0\" height=\"100.0\" viewBox=\"-0.12 -0.12 3.24 3.24\" preserveAspectRatio=\"xMinYMin meet\"><g transform=\"matrix(1,0,0,-1,0,3.0)\"><g><path fill-rule=\"evenodd\" fill=\"#66cc99\" stroke=\"#555555\" stroke-width=\"0.06480000000000001\" opacity=\"0.6\" d=\"M 0.0,0.0 L 0.0,1.0 L 1.0,1.0 L 1.0,0.0 L 0.0,0.0 z\" /><path fill-rule=\"evenodd\" fill=\"#66cc99\" stroke=\"#555555\" stroke-width=\"0.06480000000000001\" opacity=\"0.6\" d=\"M 2.0,2.0 L 2.0,3.0 L 3.0,3.0 L 3.0,2.0 L 2.0,2.0 z\" /></g></g></svg>"
      ],
      "text/plain": [
       "<shapely.geometry.multipolygon.MultiPolygon at 0x1ce5d521650>"
      ]
     },
     "execution_count": 4,
     "metadata": {},
     "output_type": "execute_result"
    }
   ],
   "source": [
    "# Importando a classe MultiPolygon da biblioteca shapely.geometry\n",
    "from shapely.geometry import Polygon, MultiPolygon\n",
    "\n",
    "# Criando uma coleção de polígonos usando MultiPolygon\n",
    "poligonos = MultiPolygon([\n",
    "    Polygon([(0, 0), (0, 1), (1, 1), (1, 0)]),\n",
    "    Polygon([(2, 2), (2, 3), (3, 3), (3, 2)])\n",
    "])\n",
    "\n",
    "# Exibindo os polígonos\n",
    "print(poligonos)\n",
    "poligonos\n"
   ]
  }
 ],
 "metadata": {
  "kernelspec": {
   "display_name": "Python 3 (ipykernel)",
   "language": "python",
   "name": "python3"
  },
  "language_info": {
   "codemirror_mode": {
    "name": "ipython",
    "version": 3
   },
   "file_extension": ".py",
   "mimetype": "text/x-python",
   "name": "python",
   "nbconvert_exporter": "python",
   "pygments_lexer": "ipython3",
   "version": "3.11.6"
  }
 },
 "nbformat": 4,
 "nbformat_minor": 5
}
