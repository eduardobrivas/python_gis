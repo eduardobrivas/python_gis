{
 "cells": [
  {
   "cell_type": "code",
   "execution_count": 3,
   "id": "33e85ed0-ae27-4818-b5f4-3759dd3c9385",
   "metadata": {
    "tags": []
   },
   "outputs": [],
   "source": [
    "import rasterio \n",
    "import os"
   ]
  },
  {
   "cell_type": "code",
   "execution_count": 5,
   "id": "575730c2-8a86-4f30-9caa-278c1aa2c9cd",
   "metadata": {
    "tags": []
   },
   "outputs": [],
   "source": [
    "path = os.getcwd()+'/cbers.tif'"
   ]
  },
  {
   "cell_type": "code",
   "execution_count": 9,
   "id": "f505231f-3487-4cf3-a034-a3cbb35c2673",
   "metadata": {
    "tags": []
   },
   "outputs": [],
   "source": [
    "raster_base = rasterio.open(path)"
   ]
  },
  {
   "cell_type": "code",
   "execution_count": 10,
   "id": "7ea5bf51-e8e0-49b7-8fab-07b4518c9a9c",
   "metadata": {
    "tags": []
   },
   "outputs": [
    {
     "data": {
      "text/plain": [
       "<open DatasetReader name='C:/Users/eduar/Documents/python_gis3.11/.venv/Scripts/projeto/python_gis/cbers.tif' mode='r'>"
      ]
     },
     "execution_count": 10,
     "metadata": {},
     "output_type": "execute_result"
    }
   ],
   "source": [
    "raster_base"
   ]
  },
  {
   "cell_type": "code",
   "execution_count": 12,
   "id": "bf53a5c4-9159-4b7f-ba7b-2198a9e7af97",
   "metadata": {
    "tags": []
   },
   "outputs": [
    {
     "data": {
      "text/plain": [
       "'C:/Users/eduar/Documents/python_gis3.11/.venv/Scripts/projeto/python_gis/cbers.tif'"
      ]
     },
     "execution_count": 12,
     "metadata": {},
     "output_type": "execute_result"
    }
   ],
   "source": [
    "raster_base.name"
   ]
  },
  {
   "cell_type": "code",
   "execution_count": 13,
   "id": "9c26f7b8-235d-4ee7-9f43-a02c2ae933d8",
   "metadata": {
    "tags": []
   },
   "outputs": [
    {
     "data": {
      "text/plain": [
       "'r'"
      ]
     },
     "execution_count": 13,
     "metadata": {},
     "output_type": "execute_result"
    }
   ],
   "source": [
    "raster_base.mode"
   ]
  },
  {
   "cell_type": "code",
   "execution_count": 14,
   "id": "b4c23b82-a191-4752-8841-1c3c0a7d9557",
   "metadata": {
    "tags": []
   },
   "outputs": [
    {
     "data": {
      "text/plain": [
       "False"
      ]
     },
     "execution_count": 14,
     "metadata": {},
     "output_type": "execute_result"
    }
   ],
   "source": [
    "raster_base.closed"
   ]
  },
  {
   "cell_type": "code",
   "execution_count": 16,
   "id": "9b0db88f-a6f4-46a5-8e5f-11c9ddba6d88",
   "metadata": {
    "tags": []
   },
   "outputs": [
    {
     "data": {
      "text/plain": [
       "4"
      ]
     },
     "execution_count": 16,
     "metadata": {},
     "output_type": "execute_result"
    }
   ],
   "source": [
    "raster_base.count"
   ]
  },
  {
   "cell_type": "code",
   "execution_count": 17,
   "id": "f4105275-e832-406d-8f31-6d162e31be94",
   "metadata": {
    "tags": []
   },
   "outputs": [
    {
     "data": {
      "text/plain": [
       "1929"
      ]
     },
     "execution_count": 17,
     "metadata": {},
     "output_type": "execute_result"
    }
   ],
   "source": [
    "raster_base.width"
   ]
  },
  {
   "cell_type": "code",
   "execution_count": 19,
   "id": "1039daf8-085a-4710-990e-8a6f06e3c885",
   "metadata": {
    "tags": []
   },
   "outputs": [
    {
     "data": {
      "text/plain": [
       "1943"
      ]
     },
     "execution_count": 19,
     "metadata": {},
     "output_type": "execute_result"
    }
   ],
   "source": [
    "raster_base.height"
   ]
  },
  {
   "cell_type": "code",
   "execution_count": 20,
   "id": "cf8f9af2-4c16-4eb4-9476-6abcd02cb9a9",
   "metadata": {
    "tags": []
   },
   "outputs": [
    {
     "data": {
      "text/plain": [
       "CRS.from_epsg(32721)"
      ]
     },
     "execution_count": 20,
     "metadata": {},
     "output_type": "execute_result"
    }
   ],
   "source": [
    "raster_base.crs"
   ]
  },
  {
   "cell_type": "code",
   "execution_count": 21,
   "id": "82349809-8194-4151-9634-57382639a591",
   "metadata": {
    "tags": []
   },
   "outputs": [
    {
     "data": {
      "text/plain": [
       "(1, 2, 3, 4)"
      ]
     },
     "execution_count": 21,
     "metadata": {},
     "output_type": "execute_result"
    }
   ],
   "source": [
    "raster_base.indexes"
   ]
  },
  {
   "cell_type": "code",
   "execution_count": 22,
   "id": "8f712eb1-f6cc-4aea-9dd8-0c77e1ce1ee9",
   "metadata": {
    "tags": []
   },
   "outputs": [
    {
     "data": {
      "text/plain": [
       "('float32', 'float32', 'float32', 'float32')"
      ]
     },
     "execution_count": 22,
     "metadata": {},
     "output_type": "execute_result"
    }
   ],
   "source": [
    "raster_base.dtypes"
   ]
  },
  {
   "cell_type": "code",
   "execution_count": 23,
   "id": "a3e5d70b-f789-45ad-b843-a794066c6b41",
   "metadata": {
    "tags": []
   },
   "outputs": [
    {
     "data": {
      "text/plain": [
       "BoundingBox(left=734856.0, bottom=7173612.0, right=750288.0, top=7189156.0)"
      ]
     },
     "execution_count": 23,
     "metadata": {},
     "output_type": "execute_result"
    }
   ],
   "source": [
    "raster_base.bounds"
   ]
  },
  {
   "cell_type": "code",
   "execution_count": 24,
   "id": "72c4a2c8-be73-474c-8efb-d59aaf96c01f",
   "metadata": {
    "tags": []
   },
   "outputs": [
    {
     "data": {
      "text/plain": [
       "Affine(8.0, 0.0, 734856.0,\n",
       "       0.0, -8.0, 7189156.0)"
      ]
     },
     "execution_count": 24,
     "metadata": {},
     "output_type": "execute_result"
    }
   ],
   "source": [
    "raster_base.transform"
   ]
  },
  {
   "cell_type": "code",
   "execution_count": 27,
   "id": "64f6a44f-a48a-4839-847d-11300c0bf9eb",
   "metadata": {
    "tags": []
   },
   "outputs": [
    {
     "data": {
      "text/plain": [
       "(750288.0, 7173612.0)"
      ]
     },
     "execution_count": 27,
     "metadata": {},
     "output_type": "execute_result"
    }
   ],
   "source": [
    "raster_base.transform*(raster_base.width, raster_base.height)"
   ]
  },
  {
   "cell_type": "code",
   "execution_count": 28,
   "id": "0d156c93-eb3a-419b-a91c-a5b3b962b0e5",
   "metadata": {
    "tags": []
   },
   "outputs": [
    {
     "data": {
      "text/plain": [
       "(734872.0, 7189148.0)"
      ]
     },
     "execution_count": 28,
     "metadata": {},
     "output_type": "execute_result"
    }
   ],
   "source": [
    "raster_base.transform*(2,1)"
   ]
  },
  {
   "cell_type": "code",
   "execution_count": null,
   "id": "edbff5cb-7912-49f4-b44e-c3a317b58fd4",
   "metadata": {},
   "outputs": [],
   "source": []
  }
 ],
 "metadata": {
  "kernelspec": {
   "display_name": "Python 3 (ipykernel)",
   "language": "python",
   "name": "python3"
  },
  "language_info": {
   "codemirror_mode": {
    "name": "ipython",
    "version": 3
   },
   "file_extension": ".py",
   "mimetype": "text/x-python",
   "name": "python",
   "nbconvert_exporter": "python",
   "pygments_lexer": "ipython3",
   "version": "3.11.6"
  }
 },
 "nbformat": 4,
 "nbformat_minor": 5
}
