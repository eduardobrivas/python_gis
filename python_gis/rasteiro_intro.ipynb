{
 "cells": [
  {
   "cell_type": "code",
   "execution_count": 2,
   "id": "33e85ed0-ae27-4818-b5f4-3759dd3c9385",
   "metadata": {
    "tags": []
   },
   "outputs": [],
   "source": [
    "import rasterio \n",
    "import os"
   ]
  },
  {
   "cell_type": "code",
   "execution_count": 3,
   "id": "575730c2-8a86-4f30-9caa-278c1aa2c9cd",
   "metadata": {
    "tags": []
   },
   "outputs": [],
   "source": [
    "path = os.getcwd()+'/cbers.tif'"
   ]
  },
  {
   "cell_type": "code",
   "execution_count": 4,
   "id": "f505231f-3487-4cf3-a034-a3cbb35c2673",
   "metadata": {
    "tags": []
   },
   "outputs": [],
   "source": [
    "raster_base = rasterio.open(path)"
   ]
  },
  {
   "cell_type": "code",
   "execution_count": 5,
   "id": "7ea5bf51-e8e0-49b7-8fab-07b4518c9a9c",
   "metadata": {
    "tags": []
   },
   "outputs": [
    {
     "data": {
      "text/plain": [
       "<open DatasetReader name='C:/Users/eduar/Documents/python_gis3.11/.venv/Scripts/projeto/python_gis/cbers.tif' mode='r'>"
      ]
     },
     "execution_count": 5,
     "metadata": {},
     "output_type": "execute_result"
    }
   ],
   "source": [
    "raster_base"
   ]
  },
  {
   "cell_type": "code",
   "execution_count": 6,
   "id": "bf53a5c4-9159-4b7f-ba7b-2198a9e7af97",
   "metadata": {
    "tags": []
   },
   "outputs": [
    {
     "data": {
      "text/plain": [
       "'C:/Users/eduar/Documents/python_gis3.11/.venv/Scripts/projeto/python_gis/cbers.tif'"
      ]
     },
     "execution_count": 6,
     "metadata": {},
     "output_type": "execute_result"
    }
   ],
   "source": [
    "raster_base.name"
   ]
  },
  {
   "cell_type": "code",
   "execution_count": 13,
   "id": "9c26f7b8-235d-4ee7-9f43-a02c2ae933d8",
   "metadata": {
    "tags": []
   },
   "outputs": [
    {
     "data": {
      "text/plain": [
       "'r'"
      ]
     },
     "execution_count": 13,
     "metadata": {},
     "output_type": "execute_result"
    }
   ],
   "source": [
    "raster_base.mode"
   ]
  },
  {
   "cell_type": "code",
   "execution_count": 14,
   "id": "b4c23b82-a191-4752-8841-1c3c0a7d9557",
   "metadata": {
    "tags": []
   },
   "outputs": [
    {
     "data": {
      "text/plain": [
       "False"
      ]
     },
     "execution_count": 14,
     "metadata": {},
     "output_type": "execute_result"
    }
   ],
   "source": [
    "raster_base.closed"
   ]
  },
  {
   "cell_type": "code",
   "execution_count": 16,
   "id": "9b0db88f-a6f4-46a5-8e5f-11c9ddba6d88",
   "metadata": {
    "tags": []
   },
   "outputs": [
    {
     "data": {
      "text/plain": [
       "4"
      ]
     },
     "execution_count": 16,
     "metadata": {},
     "output_type": "execute_result"
    }
   ],
   "source": [
    "raster_base.count"
   ]
  },
  {
   "cell_type": "code",
   "execution_count": 17,
   "id": "f4105275-e832-406d-8f31-6d162e31be94",
   "metadata": {
    "tags": []
   },
   "outputs": [
    {
     "data": {
      "text/plain": [
       "1929"
      ]
     },
     "execution_count": 17,
     "metadata": {},
     "output_type": "execute_result"
    }
   ],
   "source": [
    "raster_base.width"
   ]
  },
  {
   "cell_type": "code",
   "execution_count": 19,
   "id": "1039daf8-085a-4710-990e-8a6f06e3c885",
   "metadata": {
    "tags": []
   },
   "outputs": [
    {
     "data": {
      "text/plain": [
       "1943"
      ]
     },
     "execution_count": 19,
     "metadata": {},
     "output_type": "execute_result"
    }
   ],
   "source": [
    "raster_base.height"
   ]
  },
  {
   "cell_type": "code",
   "execution_count": 20,
   "id": "cf8f9af2-4c16-4eb4-9476-6abcd02cb9a9",
   "metadata": {
    "tags": []
   },
   "outputs": [
    {
     "data": {
      "text/plain": [
       "CRS.from_epsg(32721)"
      ]
     },
     "execution_count": 20,
     "metadata": {},
     "output_type": "execute_result"
    }
   ],
   "source": [
    "raster_base.crs"
   ]
  },
  {
   "cell_type": "code",
   "execution_count": 21,
   "id": "82349809-8194-4151-9634-57382639a591",
   "metadata": {
    "tags": []
   },
   "outputs": [
    {
     "data": {
      "text/plain": [
       "(1, 2, 3, 4)"
      ]
     },
     "execution_count": 21,
     "metadata": {},
     "output_type": "execute_result"
    }
   ],
   "source": [
    "raster_base.indexes"
   ]
  },
  {
   "cell_type": "code",
   "execution_count": 22,
   "id": "8f712eb1-f6cc-4aea-9dd8-0c77e1ce1ee9",
   "metadata": {
    "tags": []
   },
   "outputs": [
    {
     "data": {
      "text/plain": [
       "('float32', 'float32', 'float32', 'float32')"
      ]
     },
     "execution_count": 22,
     "metadata": {},
     "output_type": "execute_result"
    }
   ],
   "source": [
    "raster_base.dtypes"
   ]
  },
  {
   "cell_type": "code",
   "execution_count": 23,
   "id": "a3e5d70b-f789-45ad-b843-a794066c6b41",
   "metadata": {
    "tags": []
   },
   "outputs": [
    {
     "data": {
      "text/plain": [
       "BoundingBox(left=734856.0, bottom=7173612.0, right=750288.0, top=7189156.0)"
      ]
     },
     "execution_count": 23,
     "metadata": {},
     "output_type": "execute_result"
    }
   ],
   "source": [
    "raster_base.bounds"
   ]
  },
  {
   "cell_type": "code",
   "execution_count": 24,
   "id": "72c4a2c8-be73-474c-8efb-d59aaf96c01f",
   "metadata": {
    "tags": []
   },
   "outputs": [
    {
     "data": {
      "text/plain": [
       "Affine(8.0, 0.0, 734856.0,\n",
       "       0.0, -8.0, 7189156.0)"
      ]
     },
     "execution_count": 24,
     "metadata": {},
     "output_type": "execute_result"
    }
   ],
   "source": [
    "raster_base.transform"
   ]
  },
  {
   "cell_type": "code",
   "execution_count": 27,
   "id": "64f6a44f-a48a-4839-847d-11300c0bf9eb",
   "metadata": {
    "tags": []
   },
   "outputs": [
    {
     "data": {
      "text/plain": [
       "(750288.0, 7173612.0)"
      ]
     },
     "execution_count": 27,
     "metadata": {},
     "output_type": "execute_result"
    }
   ],
   "source": [
    "raster_base.transform*(raster_base.width, raster_base.height)"
   ]
  },
  {
   "cell_type": "code",
   "execution_count": 28,
   "id": "0d156c93-eb3a-419b-a91c-a5b3b962b0e5",
   "metadata": {
    "tags": []
   },
   "outputs": [
    {
     "data": {
      "text/plain": [
       "(734872.0, 7189148.0)"
      ]
     },
     "execution_count": 28,
     "metadata": {},
     "output_type": "execute_result"
    }
   ],
   "source": [
    "raster_base.transform*(2,1)"
   ]
  },
  {
   "cell_type": "code",
   "execution_count": 15,
   "id": "edbff5cb-7912-49f4-b44e-c3a317b58fd4",
   "metadata": {},
   "outputs": [],
   "source": [
    "band1 = raster_base.read(1)\n",
    "band2 = raster_base.read(2)\n",
    "band3 = raster_base.read(3)\n",
    "band4 = raster_base.read(4)"
   ]
  },
  {
   "cell_type": "code",
   "execution_count": 16,
   "id": "b9700e1c-d7d2-4438-b4aa-143d6357210e",
   "metadata": {
    "tags": []
   },
   "outputs": [
    {
     "name": "stderr",
     "output_type": "stream",
     "text": [
      "C:\\Users\\eduar\\AppData\\Local\\Temp\\ipykernel_14900\\1883429491.py:1: RuntimeWarning: divide by zero encountered in divide\n",
      "  band4/band1\n"
     ]
    },
    {
     "data": {
      "text/plain": [
       "array([[1.798722 , 1.9833887, 2.3986487, ..., 1.5932835, 1.5535055,\n",
       "        1.6074075],\n",
       "       [1.4385542, 1.8808664, 2.0522647, ..., 1.5410448, 1.565543 ,\n",
       "        1.6356877],\n",
       "       [1.0711383, 1.5271566, 2.2562277, ..., 1.4157304, 1.4962963,\n",
       "        1.5617977],\n",
       "       ...,\n",
       "       [2.0726073, 2.121212 , 1.9452055, ..., 2.0992646, 2.0408921,\n",
       "        2.0588236],\n",
       "       [2.2392027, 2.270903 , 2.2508473, ..., 2.0661764, 2.0892193,\n",
       "        2.1360295],\n",
       "       [2.2333333, 2.3400674, 2.2828283, ..., 2.1236362, 2.0592592,\n",
       "        2.047619 ]], dtype=float32)"
      ]
     },
     "execution_count": 16,
     "metadata": {},
     "output_type": "execute_result"
    }
   ],
   "source": [
    "band4/band1"
   ]
  },
  {
   "cell_type": "code",
   "execution_count": 17,
   "id": "349525c1-453a-426b-b34f-7fa163d338bc",
   "metadata": {
    "tags": []
   },
   "outputs": [
    {
     "data": {
      "text/plain": [
       "(1943, 1929)"
      ]
     },
     "execution_count": 17,
     "metadata": {},
     "output_type": "execute_result"
    }
   ],
   "source": [
    "band1.shape"
   ]
  },
  {
   "cell_type": "code",
   "execution_count": 18,
   "id": "46350b49-1171-4bac-93c0-2d40a619b124",
   "metadata": {
    "tags": []
   },
   "outputs": [],
   "source": [
    "  raster_base.close()"
   ]
  },
  {
   "cell_type": "code",
   "execution_count": 20,
   "id": "083190f4-97cd-462e-be97-c8fe2f5cc5f2",
   "metadata": {
    "tags": []
   },
   "outputs": [
    {
     "data": {
      "text/plain": [
       "True"
      ]
     },
     "execution_count": 20,
     "metadata": {},
     "output_type": "execute_result"
    }
   ],
   "source": [
    "raster_base.closed"
   ]
  },
  {
   "cell_type": "code",
   "execution_count": 32,
   "id": "382a333d-a0f0-49d1-9fb8-3d7f7e510e33",
   "metadata": {
    "tags": []
   },
   "outputs": [],
   "source": [
    " with rasterio.open(path, 'r') as dst:\n",
    "        band1 = dst.read(1)\n",
    "        band2 = dst.read(2)\n",
    "        band3 = dst.read(3)\n",
    "        band4 = dst.read(4)"
   ]
  },
  {
   "cell_type": "code",
   "execution_count": 28,
   "id": "cabbe805-6177-4ff3-b169-4920fbb6a132",
   "metadata": {
    "tags": []
   },
   "outputs": [
    {
     "data": {
      "text/plain": [
       "True"
      ]
     },
     "execution_count": 28,
     "metadata": {},
     "output_type": "execute_result"
    }
   ],
   "source": [
    "dst.closed"
   ]
  },
  {
   "cell_type": "code",
   "execution_count": 61,
   "id": "f735b4f5-981f-4261-9fec-bfc304f3a0e7",
   "metadata": {
    "tags": []
   },
   "outputs": [],
   "source": [
    "import rasterio\n",
    "import os\n",
    "\n",
    "path = os.getcwd() + '/cbers.tif'\n",
    "\n",
    "with rasterio.open(path, 'r') as dst:\n",
    "    band1 = dst.read(1)\n",
    "    band2 = dst.read(2)\n",
    "    band3 = dst.read(3)\n",
    "    band4 = dst.read(4)\n",
    "    profile = dst.profile"
   ]
  },
  {
   "cell_type": "code",
   "execution_count": 69,
   "id": "6ddc8702-2b72-4414-ac6c-9d906abb15e1",
   "metadata": {
    "tags": []
   },
   "outputs": [
    {
     "ename": "CPLE_AppDefinedError",
     "evalue": "Deleting exported.tif failed: Permission denied",
     "output_type": "error",
     "traceback": [
      "\u001b[1;31m---------------------------------------------------------------------------\u001b[0m",
      "\u001b[1;31mCPLE_AppDefinedError\u001b[0m                      Traceback (most recent call last)",
      "Cell \u001b[1;32mIn[69], line 1\u001b[0m\n\u001b[1;32m----> 1\u001b[0m \u001b[38;5;28;01mwith\u001b[39;00m \u001b[43mrasterio\u001b[49m\u001b[38;5;241;43m.\u001b[39;49m\u001b[43mopen\u001b[49m\u001b[43m(\u001b[49m\u001b[38;5;124;43m'\u001b[39;49m\u001b[38;5;124;43mexported.tif\u001b[39;49m\u001b[38;5;124;43m'\u001b[39;49m\u001b[43m,\u001b[49m\u001b[43m \u001b[49m\u001b[38;5;124;43m'\u001b[39;49m\u001b[38;5;124;43mw\u001b[39;49m\u001b[38;5;124;43m'\u001b[39;49m\u001b[43m,\u001b[49m\n\u001b[0;32m      2\u001b[0m \u001b[43m                  \u001b[49m\u001b[43mdriver\u001b[49m\u001b[38;5;241;43m=\u001b[39;49m\u001b[38;5;124;43m'\u001b[39;49m\u001b[38;5;124;43mGtiff\u001b[39;49m\u001b[38;5;124;43m'\u001b[39;49m\u001b[43m,\u001b[49m\n\u001b[0;32m      3\u001b[0m \u001b[43m                  \u001b[49m\u001b[43mdtype\u001b[49m\u001b[38;5;241;43m=\u001b[39;49m\u001b[43mrasterio\u001b[49m\u001b[38;5;241;43m.\u001b[39;49m\u001b[43mfloat32\u001b[49m\u001b[43m,\u001b[49m\n\u001b[0;32m      4\u001b[0m \u001b[43m                  \u001b[49m\u001b[43mheight\u001b[49m\u001b[43m \u001b[49m\u001b[38;5;241;43m=\u001b[39;49m\u001b[43m \u001b[49m\u001b[38;5;241;43m1943\u001b[39;49m\u001b[43m,\u001b[49m\n\u001b[0;32m      5\u001b[0m \u001b[43m                  \u001b[49m\u001b[43mwidth\u001b[49m\u001b[43m \u001b[49m\u001b[38;5;241;43m=\u001b[39;49m\u001b[43m \u001b[49m\u001b[38;5;241;43m1929\u001b[39;49m\u001b[43m,\u001b[49m\n\u001b[0;32m      6\u001b[0m \u001b[43m                  \u001b[49m\u001b[43mcount\u001b[49m\u001b[43m \u001b[49m\u001b[38;5;241;43m=\u001b[39;49m\u001b[43m \u001b[49m\u001b[38;5;241;43m1\u001b[39;49m\u001b[43m,\u001b[49m\n\u001b[0;32m      7\u001b[0m \u001b[43m                  \u001b[49m\u001b[43mcrs\u001b[49m\u001b[43m \u001b[49m\u001b[38;5;241;43m=\u001b[39;49m\u001b[43m \u001b[49m\u001b[38;5;124;43m'\u001b[39;49m\u001b[38;5;124;43m+proj=utm +zone=21 +south +datum=WGS84 +units=m +no_defs\u001b[39;49m\u001b[38;5;124;43m'\u001b[39;49m\u001b[43m,\u001b[49m\n\u001b[0;32m      8\u001b[0m \u001b[43m                   \u001b[49m\u001b[43mtransform\u001b[49m\u001b[43m \u001b[49m\u001b[38;5;241;43m=\u001b[39;49m\u001b[43m \u001b[49m\u001b[43m(\u001b[49m\u001b[38;5;241;43m8.0\u001b[39;49m\u001b[43m,\u001b[49m\u001b[43m \u001b[49m\u001b[38;5;241;43m0.0\u001b[39;49m\u001b[43m,\u001b[49m\u001b[43m \u001b[49m\u001b[38;5;241;43m734856.0\u001b[39;49m\u001b[43m,\u001b[49m\u001b[43m \u001b[49m\u001b[38;5;241;43m0.0\u001b[39;49m\u001b[43m,\u001b[49m\u001b[43m \u001b[49m\u001b[38;5;241;43m-\u001b[39;49m\u001b[38;5;241;43m8.0\u001b[39;49m\u001b[43m,\u001b[49m\u001b[43m \u001b[49m\u001b[38;5;241;43m7189156.0\u001b[39;49m\u001b[43m)\u001b[49m\n\u001b[0;32m      9\u001b[0m \u001b[43m                  \u001b[49m\u001b[43m)\u001b[49m \u001b[38;5;28;01mas\u001b[39;00m dst:\n\u001b[0;32m     10\u001b[0m     dst\u001b[38;5;241m.\u001b[39mwrite(band1,\u001b[38;5;241m1\u001b[39m)\n",
      "File \u001b[1;32m~\\Documents\\python_gis3.11\\.venv\\Lib\\site-packages\\rasterio\\env.py:451\u001b[0m, in \u001b[0;36mensure_env_with_credentials.<locals>.wrapper\u001b[1;34m(*args, **kwds)\u001b[0m\n\u001b[0;32m    448\u001b[0m     session \u001b[38;5;241m=\u001b[39m DummySession()\n\u001b[0;32m    450\u001b[0m \u001b[38;5;28;01mwith\u001b[39;00m env_ctor(session\u001b[38;5;241m=\u001b[39msession):\n\u001b[1;32m--> 451\u001b[0m     \u001b[38;5;28;01mreturn\u001b[39;00m \u001b[43mf\u001b[49m\u001b[43m(\u001b[49m\u001b[38;5;241;43m*\u001b[39;49m\u001b[43margs\u001b[49m\u001b[43m,\u001b[49m\u001b[43m \u001b[49m\u001b[38;5;241;43m*\u001b[39;49m\u001b[38;5;241;43m*\u001b[39;49m\u001b[43mkwds\u001b[49m\u001b[43m)\u001b[49m\n",
      "File \u001b[1;32m~\\Documents\\python_gis3.11\\.venv\\Lib\\site-packages\\rasterio\\__init__.py:327\u001b[0m, in \u001b[0;36mopen\u001b[1;34m(fp, mode, driver, width, height, count, crs, transform, dtype, nodata, sharing, **kwargs)\u001b[0m\n\u001b[0;32m    325\u001b[0m writer \u001b[38;5;241m=\u001b[39m get_writer_for_driver(driver)\n\u001b[0;32m    326\u001b[0m \u001b[38;5;28;01mif\u001b[39;00m writer \u001b[38;5;129;01mis\u001b[39;00m \u001b[38;5;129;01mnot\u001b[39;00m \u001b[38;5;28;01mNone\u001b[39;00m:\n\u001b[1;32m--> 327\u001b[0m     dataset \u001b[38;5;241m=\u001b[39m \u001b[43mwriter\u001b[49m\u001b[43m(\u001b[49m\n\u001b[0;32m    328\u001b[0m \u001b[43m        \u001b[49m\u001b[43mpath\u001b[49m\u001b[43m,\u001b[49m\n\u001b[0;32m    329\u001b[0m \u001b[43m        \u001b[49m\u001b[43mmode\u001b[49m\u001b[43m,\u001b[49m\n\u001b[0;32m    330\u001b[0m \u001b[43m        \u001b[49m\u001b[43mdriver\u001b[49m\u001b[38;5;241;43m=\u001b[39;49m\u001b[43mdriver\u001b[49m\u001b[43m,\u001b[49m\n\u001b[0;32m    331\u001b[0m \u001b[43m        \u001b[49m\u001b[43mwidth\u001b[49m\u001b[38;5;241;43m=\u001b[39;49m\u001b[43mwidth\u001b[49m\u001b[43m,\u001b[49m\n\u001b[0;32m    332\u001b[0m \u001b[43m        \u001b[49m\u001b[43mheight\u001b[49m\u001b[38;5;241;43m=\u001b[39;49m\u001b[43mheight\u001b[49m\u001b[43m,\u001b[49m\n\u001b[0;32m    333\u001b[0m \u001b[43m        \u001b[49m\u001b[43mcount\u001b[49m\u001b[38;5;241;43m=\u001b[39;49m\u001b[43mcount\u001b[49m\u001b[43m,\u001b[49m\n\u001b[0;32m    334\u001b[0m \u001b[43m        \u001b[49m\u001b[43mcrs\u001b[49m\u001b[38;5;241;43m=\u001b[39;49m\u001b[43mcrs\u001b[49m\u001b[43m,\u001b[49m\n\u001b[0;32m    335\u001b[0m \u001b[43m        \u001b[49m\u001b[43mtransform\u001b[49m\u001b[38;5;241;43m=\u001b[39;49m\u001b[43mtransform\u001b[49m\u001b[43m,\u001b[49m\n\u001b[0;32m    336\u001b[0m \u001b[43m        \u001b[49m\u001b[43mdtype\u001b[49m\u001b[38;5;241;43m=\u001b[39;49m\u001b[43mdtype\u001b[49m\u001b[43m,\u001b[49m\n\u001b[0;32m    337\u001b[0m \u001b[43m        \u001b[49m\u001b[43mnodata\u001b[49m\u001b[38;5;241;43m=\u001b[39;49m\u001b[43mnodata\u001b[49m\u001b[43m,\u001b[49m\n\u001b[0;32m    338\u001b[0m \u001b[43m        \u001b[49m\u001b[43msharing\u001b[49m\u001b[38;5;241;43m=\u001b[39;49m\u001b[43msharing\u001b[49m\u001b[43m,\u001b[49m\n\u001b[0;32m    339\u001b[0m \u001b[43m        \u001b[49m\u001b[38;5;241;43m*\u001b[39;49m\u001b[38;5;241;43m*\u001b[39;49m\u001b[43mkwargs\u001b[49m\n\u001b[0;32m    340\u001b[0m \u001b[43m    \u001b[49m\u001b[43m)\u001b[49m\n\u001b[0;32m    341\u001b[0m \u001b[38;5;28;01melse\u001b[39;00m:\n\u001b[0;32m    342\u001b[0m     \u001b[38;5;28;01mraise\u001b[39;00m DriverCapabilityError(\n\u001b[0;32m    343\u001b[0m         \u001b[38;5;124m\"\u001b[39m\u001b[38;5;124mWriter does not exist for driver: \u001b[39m\u001b[38;5;132;01m%s\u001b[39;00m\u001b[38;5;124m\"\u001b[39m \u001b[38;5;241m%\u001b[39m \u001b[38;5;28mstr\u001b[39m(driver)\n\u001b[0;32m    344\u001b[0m     )\n",
      "File \u001b[1;32mrasterio\\\\_io.pyx:1464\u001b[0m, in \u001b[0;36mrasterio._io.DatasetWriterBase.__init__\u001b[1;34m()\u001b[0m\n",
      "File \u001b[1;32mrasterio\\\\_io.pyx:330\u001b[0m, in \u001b[0;36mrasterio._io._delete_dataset_if_exists\u001b[1;34m()\u001b[0m\n",
      "File \u001b[1;32mrasterio\\\\_err.pyx:195\u001b[0m, in \u001b[0;36mrasterio._err.exc_wrap_int\u001b[1;34m()\u001b[0m\n",
      "\u001b[1;31mCPLE_AppDefinedError\u001b[0m: Deleting exported.tif failed: Permission denied"
     ]
    }
   ],
   "source": [
    "with rasterio.open('exported.tif', 'w',\n",
    "                  driver='Gtiff',\n",
    "                  dtype=rasterio.float32,\n",
    "                  height = 1943,\n",
    "                  width = 1929,\n",
    "                  count = 1,\n",
    "                  crs = '+proj=utm +zone=21 +south +datum=WGS84 +units=m +no_defs',\n",
    "                   transform = (8.0, 0.0, 734856.0, 0.0, -8.0, 7189156.0)\n",
    "                  ) as dst:\n",
    "    dst.write(band1,1)\n",
    "    "
   ]
  },
  {
   "cell_type": "code",
   "execution_count": null,
   "id": "22b80b31-6a82-489e-b9d5-7e07ec9477ef",
   "metadata": {},
   "outputs": [],
   "source": [
    "profile['count']=1"
   ]
  },
  {
   "cell_type": "code",
   "execution_count": 70,
   "id": "659fa5a9-f6cd-4f3b-aaf5-a36979f7c866",
   "metadata": {
    "tags": []
   },
   "outputs": [
    {
     "ename": "SyntaxError",
     "evalue": "expected ':' (513011054.py, line 1)",
     "output_type": "error",
     "traceback": [
      "\u001b[1;36m  Cell \u001b[1;32mIn[70], line 1\u001b[1;36m\u001b[0m\n\u001b[1;33m    with rasterio.open('exported1','w',profile)\u001b[0m\n\u001b[1;37m                                               ^\u001b[0m\n\u001b[1;31mSyntaxError\u001b[0m\u001b[1;31m:\u001b[0m expected ':'\n"
     ]
    }
   ],
   "source": [
    "with rasterio.open('exported1','w',**profile) as dst:\n",
    "    dst.w"
   ]
  }
 ],
 "metadata": {
  "kernelspec": {
   "display_name": "Python 3 (ipykernel)",
   "language": "python",
   "name": "python3"
  },
  "language_info": {
   "codemirror_mode": {
    "name": "ipython",
    "version": 3
   },
   "file_extension": ".py",
   "mimetype": "text/x-python",
   "name": "python",
   "nbconvert_exporter": "python",
   "pygments_lexer": "ipython3",
   "version": "3.11.6"
  }
 },
 "nbformat": 4,
 "nbformat_minor": 5
}
